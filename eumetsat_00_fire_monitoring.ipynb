{
 "cells": [
  {
   "cell_type": "markdown",
   "metadata": {},
   "source": [
    "# **Fire Monitoring using Sentinel-3 data**\n",
    "\n",
    "# Introduction\n",
    "\n",
    "This notebook is based on the EUMETSAT short course [*Summer(s) of fires: the 2020 wildfires in Australia, Siberia and California*](https://www.youtube.com/watch?v=_Xn-iHTgtxM&list=PLOQg9n6Apif2QUccFbT0RQoT08ggibEoD&index=96&ab_channel=EUMETSAT), which is part of a series of open, online short courses on data discovery for weather, oceanography, air quality and climate. The course included practical training material hosted in JupyterHub, with examples and excercise notebooks for data analysis. Data used in this notebook is level 2 Sentinel-3 data and I will use functions to grid the data, which have been provided in this course.\n",
    "\n",
    "## Fire Monitoring\n",
    "\n",
    "EUMETSAT monitors fires based on two atmospheric products: Near Real Time (NRT) fire & aerosol from Copernicus Sentinel-3 (S3) data. Observations are made available in less than three hours (i.e., near real time) from the Sea and Land Surface Temperature Radiometer (SLSTR) observation sensing time. These atmospheric products can be also visualised in the [*EUMETSAT*](http://metis.eumetsat.int/frp) website and other [*Sentinel-3*](https://s3view.oceandatalab.com/) available products.\n",
    "\n",
    "## Atmospheric Products\n",
    "\n",
    "The Copernicus Atmosphere Monitoring Service ([*CAMS*](https://atmosphere.copernicus.eu/)) uses both atmospheric productst from EUMETSAT for tracking the intensity and emissions of wildfires around the world:\n",
    "\n",
    "- The Copernicus NRT S3 [*Fire Radiative Power (FRP)*](https://navigator.eumetsat.int/product/EO:EUM:DAT:0207) product detects and monitors any burning events (hotspots), including fires over continents, flames from persistent land and ocean gas flares, and active erupting volcanoes. \n",
    "\n",
    "- The Copernicus NRT S3 [*Aerosol Optical Depth (AOD)*](https://www.eumetsat.int/website/home/News/DAT_5150095.html) product quantifies the abundance of all aerosol particles suspended in the air, monitoring their global distribution and long-range transport.\n",
    "\n",
    "## Data Access\n",
    "To freely access [*Sentinel-3 data*](https://coda.eumetsat.int/#/home) registration is required.\n",
    "\n",
    "Follow these steps to download Sentinel-3 NRT SLSTR FRP and Sentinel-3 NRT SLSTR AOD data in the area and dates of your interest:\n",
    "                  \n",
    "- Choose Product Type.\n",
    "- Select SL_2_FRP___ (for Sentinel-3 SLSTR NRT Fire).\n",
    "- Defined the dates.\n",
    "- Circles will be displayed over the world.\n",
    "- Select the areas of your interest.\n",
    "- Repeat steps for SL_2_AOD___ (for Sentinel-3 NRT Aerosol).\n",
    "\n",
    "## About the Data\n",
    "\n",
    "The data provided by EUMETSAT is of netCDF format, which is a standard format that facilitates access and sharing of array-oriented data. Files of such format contain a *header* which describes the layout of the data arrays and metadata (attributes).\n",
    "\n",
    "The data is classified as Level 2. This means that the data has to be arranged onto a regular latitude and longitude data (gridded frame).\n",
    "As opposite to Level 3 data, which is user-ready (gridded) data. \n"
   ]
  },
  {
   "cell_type": "markdown",
   "metadata": {},
   "source": [
    "## Summary\n",
    "\n",
    "<div style='text-align:center;'>\n",
    "<figure><img src='./img/lvm_summary_s3_slstr_nrt.png' width='90%'/>\n",
    "    <figcaption><i>Graphic summary about EUMETSAT atmospheric products based on Sentinel-3 SLSTR NRT data.</i></figcaption>\n",
    "</figure>\n",
    "</div>\n",
    "   \n"
   ]
  },
  {
   "cell_type": "markdown",
   "metadata": {},
   "source": [
    "## Additional Resources\n",
    "\n",
    "[EUMETSAT Atmospheric Composition](https://atmostraining.info/) Online Course - Nov 2020\n",
    "\n",
    "## References\n",
    "\n",
    "EUMETSAT (2020). Copernicus Sentinel-3 NRT Fire Radiative Power (FRP) – Radiant heating & threat monitoring of fires, gas flares, and volcanoes [Online]. Available at: https://www.howandwhentoreference.com/APAcitation (Accessed: 26 October 2020). "
   ]
  },
  {
   "cell_type": "markdown",
   "metadata": {},
   "source": [
    "</a><span style=\"float:right;\"><a href=\"./eumetsat_01_fire_monitoring_siberia.ipynb\"> Go to the notebook: Fire Monitoring in Siberia >></a></span>"
   ]
  },
  {
   "cell_type": "code",
   "execution_count": null,
   "metadata": {},
   "outputs": [],
   "source": []
  }
 ],
 "metadata": {
  "kernelspec": {
   "display_name": "Python 3",
   "language": "python",
   "name": "python3"
  },
  "language_info": {
   "codemirror_mode": {
    "name": "ipython",
    "version": 3
   },
   "file_extension": ".py",
   "mimetype": "text/x-python",
   "name": "python",
   "nbconvert_exporter": "python",
   "pygments_lexer": "ipython3",
   "version": "3.7.4"
  }
 },
 "nbformat": 4,
 "nbformat_minor": 4
}
